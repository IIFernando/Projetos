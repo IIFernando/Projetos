{
 "cells": [
  {
   "cell_type": "code",
   "execution_count": null,
   "metadata": {},
   "outputs": [],
   "source": [
    "import pandas as pd\n",
    "\n",
    "df = pd.read_excel('G:\\\\Meu Drive\\\\Projetos\\\\NFTS_SP\\\\SAP.xlsx', sheet_name='Leitura script')\n",
    "\n",
    "# df = df.astype({\n",
    "#     'SAP Valor':str\n",
    "#     })\n",
    "\n",
    "# df.drop(['DataEntradaSaida', 'DataEmissao', 'NumeroDocumento', 'CFOP.1', 'Soma de ValorProduto', \n",
    "# #          'Soma de ISSRetido', 'Unnamed: 18', 'Unnamed: 11', 'DESVIO BASE', 'DESVIO ISS RETIDO', 'OBS.'], axis= 1, inplace= True)\n",
    "\n",
    "codigos_verificar = ['3.05', '7.02', '7.04', '7.05', '7.09', '7.10', '7.12', \n",
    "                     '7.14', '7.15', '7.16', '7.17', '7.19', '11.02', '17.05', \n",
    "                     '17.10']\n",
    "\n",
    "df = df.loc[df['LC 116 código de tipo de serviço'].isin(codigos_verificar) & (df['ISS'] > 0.00)]\n",
    "\n",
    "display(df)"
   ]
  }
 ],
 "metadata": {
  "kernelspec": {
   "display_name": "Python 3",
   "language": "python",
   "name": "python3"
  },
  "language_info": {
   "codemirror_mode": {
    "name": "ipython",
    "version": 3
   },
   "file_extension": ".py",
   "mimetype": "text/x-python",
   "name": "python",
   "nbconvert_exporter": "python",
   "pygments_lexer": "ipython3",
   "version": "3.11.3"
  },
  "orig_nbformat": 4
 },
 "nbformat": 4,
 "nbformat_minor": 2
}
