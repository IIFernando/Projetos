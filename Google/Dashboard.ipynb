{
 "cells": [
  {
   "cell_type": "code",
   "execution_count": null,
   "metadata": {},
   "outputs": [],
   "source": [
    "from __future__ import print_function\n",
    "import os.path\n",
    "import pandas as pd\n",
    "from google.auth.transport.requests import Request\n",
    "from google.oauth2.credentials import Credentials\n",
    "from google_auth_oauthlib.flow import InstalledAppFlow\n",
    "from googleapiclient.discovery import build\n",
    "from googleapiclient.errors import HttpError\n",
    "\n",
    "# Ao modificar esses escopos, exclua o arquivo token.json.\n",
    "SCOPES = ['https://www.googleapis.com/auth/spreadsheets']\n",
    "\n",
    "'''Mostra o uso básico da Sheets API.\n",
    "Imprime valores de uma planilha de amostra.'''\n",
    "creds = None\n",
    "\n",
    "'''O arquivo token.json armazena os tokens de acesso e atualização do usuário e é criado \n",
    "automaticamente quando o fluxo de autorização é concluído pela primeira vez.'''\n",
    "if os.path.exists('token.json'):\n",
    "    creds = Credentials.from_authorized_user_file('token.json', SCOPES)\n",
    "\n",
    "# Se não houver credenciais (válidas) disponíveis, deixe o usuário efetuar login.\n",
    "if not creds or not creds.valid:\n",
    "    if creds and creds.expired and creds.refresh_token:\n",
    "        creds.refresh(Request())\n",
    "    else:\n",
    "        flow = InstalledAppFlow.from_client_secrets_file(\n",
    "            'credentials.json', SCOPES)\n",
    "        creds = flow.run_local_server(port=0)\n",
    "\n",
    "# Salva as credenciais para a próxima execução\n",
    "    with open('token.json', 'w') as token:\n",
    "        token.write(creds.to_json())\n",
    "\n",
    "try:\n",
    "    service = build('sheets', 'v4', credentials=creds)\n",
    "\n",
    "# Chame a API Sheets\n",
    "    sheet = service.spreadsheets()\n",
    "    result = sheet.values().get(spreadsheetId='1DTt9QS5MWHwXRHnCg3noxZD0-xpLo0zdQFGpNj_laNU',\n",
    "                            range='Maio!A1:AK').execute()\n",
    "    values = result.get('values', [])\n",
    "\n",
    "    df = pd.DataFrame(values)\n",
    "    df.columns = df.iloc[0]\n",
    "    df = df.drop(df.index[0])\n",
    "    df = df.drop(df.index[0])\n",
    "    df = df.dropna(subset=['Empresa'])\n",
    "\n",
    "except HttpError as err:\n",
    "    print(err)\n",
    "\n",
    "display(df)"
   ]
  }
 ],
 "metadata": {
  "kernelspec": {
   "display_name": "Python 3",
   "language": "python",
   "name": "python3"
  },
  "language_info": {
   "codemirror_mode": {
    "name": "ipython",
    "version": 3
   },
   "file_extension": ".py",
   "mimetype": "text/x-python",
   "name": "python",
   "nbconvert_exporter": "python",
   "pygments_lexer": "ipython3",
   "version": "3.11.3"
  },
  "orig_nbformat": 4
 },
 "nbformat": 4,
 "nbformat_minor": 2
}
